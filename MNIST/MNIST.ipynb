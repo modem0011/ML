{
  "nbformat": 4,
  "nbformat_minor": 0,
  "metadata": {
    "colab": {
      "name": "MNIST.ipynb",
      "provenance": []
    },
    "kernelspec": {
      "name": "python3",
      "display_name": "Python 3"
    }
  },
  "cells": [
    {
      "cell_type": "code",
      "metadata": {
        "id": "Yz3WhmvekTHg",
        "colab_type": "code",
        "colab": {}
      },
      "source": [
        "import keras"
      ],
      "execution_count": 12,
      "outputs": []
    },
    {
      "cell_type": "code",
      "metadata": {
        "id": "wyH86g3Ek_gB",
        "colab_type": "code",
        "colab": {}
      },
      "source": [
        "from keras.datasets import mnist"
      ],
      "execution_count": 13,
      "outputs": []
    },
    {
      "cell_type": "code",
      "metadata": {
        "id": "vnb9du1XlHQg",
        "colab_type": "code",
        "colab": {}
      },
      "source": [
        "train_X=mnist.load_data()[0][0][:6400]"
      ],
      "execution_count": 14,
      "outputs": []
    },
    {
      "cell_type": "code",
      "metadata": {
        "id": "q1QK9MKOlTPz",
        "colab_type": "code",
        "colab": {}
      },
      "source": [
        "train_Y=mnist.load_data()[0][1][:6400]"
      ],
      "execution_count": 15,
      "outputs": []
    },
    {
      "cell_type": "code",
      "metadata": {
        "id": "NykyLMSqlr40",
        "colab_type": "code",
        "colab": {}
      },
      "source": [
        "valid_X = mnist.load_data()[1][0][:1600].astype('float32')\n",
        "valid_Y = mnist.load_data()[1][1][:1600]"
      ],
      "execution_count": 16,
      "outputs": []
    },
    {
      "cell_type": "code",
      "metadata": {
        "id": "ZxJoq7jImA23",
        "colab_type": "code",
        "colab": {}
      },
      "source": [
        "test_X = mnist.load_data()[1][0][-2000:].astype('float32')\n",
        "test_Y = mnist.load_data()[1][1][-2000:]"
      ],
      "execution_count": 17,
      "outputs": []
    },
    {
      "cell_type": "code",
      "metadata": {
        "id": "ai8YqnfNmIR2",
        "colab_type": "code",
        "colab": {
          "base_uri": "https://localhost:8080/",
          "height": 67
        },
        "outputId": "261a16a1-5d78-45fb-b54b-f0103e37ef66"
      },
      "source": [
        "print('train_X:', train_X.shape, end = '')\n",
        "print(', train_Y:', train_Y.shape)\n",
        "print('valid_X:', valid_X.shape, end = '')\n",
        "print(', valid_Y:', valid_Y.shape)\n",
        "print('test_X:', test_X.shape, end = '')\n",
        "print(', test_Y:', test_Y.shape)"
      ],
      "execution_count": 18,
      "outputs": [
        {
          "output_type": "stream",
          "text": [
            "train_X: (6400, 28, 28), train_Y: (6400,)\n",
            "valid_X: (1600, 28, 28), valid_Y: (1600,)\n",
            "test_X: (2000, 28, 28), test_Y: (2000,)\n"
          ],
          "name": "stdout"
        }
      ]
    },
    {
      "cell_type": "code",
      "metadata": {
        "id": "69Mw8stcmlyC",
        "colab_type": "code",
        "colab": {}
      },
      "source": [
        "import matplotlib.pyplot as graph"
      ],
      "execution_count": 19,
      "outputs": []
    },
    {
      "cell_type": "code",
      "metadata": {
        "id": "M-6kC-vTmul6",
        "colab_type": "code",
        "colab": {
          "base_uri": "https://localhost:8080/",
          "height": 282
        },
        "outputId": "6b99db2c-bd20-4f54-948e-5e58084f2a66"
      },
      "source": [
        "graph.imshow(train_X[0], cmap = 'gray', interpolation = 'nearest')"
      ],
      "execution_count": 20,
      "outputs": [
        {
          "output_type": "execute_result",
          "data": {
            "text/plain": [
              "<matplotlib.image.AxesImage at 0x7f815a43b9e8>"
            ]
          },
          "metadata": {
            "tags": []
          },
          "execution_count": 20
        },
        {
          "output_type": "display_data",
          "data": {
            "image/png": "[encoded data removed]",
            "text/plain": [
              "<Figure size 432x288 with 1 Axes>"
            ]
          },
          "metadata": {
            "tags": [],
            "needs_background": "light"
          }
        }
      ]
    },
    {
      "cell_type": "code",
      "metadata": {
        "id": "YdmZRJvmm1_A",
        "colab_type": "code",
        "colab": {}
      },
      "source": [
        "dim = train_X[0].shape[0]"
      ],
      "execution_count": 21,
      "outputs": []
    },
    {
      "cell_type": "code",
      "metadata": {
        "id": "A-uvvoStn1AZ",
        "colab_type": "code",
        "colab": {}
      },
      "source": [
        "train_X = train_X.reshape(train_X.shape[0], dim, dim, 1)\n",
        "valid_X = valid_X.reshape(valid_X.shape[0], dim, dim, 1)\n",
        "test_X = test_X.reshape(test_X.shape[0], dim, dim, 1)"
      ],
      "execution_count": 23,
      "outputs": []
    },
    {
      "cell_type": "code",
      "metadata": {
        "id": "aj9IKj_nn2Ed",
        "colab_type": "code",
        "colab": {}
      },
      "source": [
        "train_X = train_X /255\n",
        "valid_X = valid_X /255\n",
        "test_X = test_X /255"
      ],
      "execution_count": 24,
      "outputs": []
    },
    {
      "cell_type": "code",
      "metadata": {
        "id": "UklnXt4Ko3Q4",
        "colab_type": "code",
        "colab": {
          "base_uri": "https://localhost:8080/",
          "height": 34
        },
        "outputId": "abf21b44-f923-416d-8c91-14246583c54c"
      },
      "source": [
        "print(train_Y[0])"
      ],
      "execution_count": 25,
      "outputs": [
        {
          "output_type": "stream",
          "text": [
            "5\n"
          ],
          "name": "stdout"
        }
      ]
    },
    {
      "cell_type": "code",
      "metadata": {
        "id": "-rrx3Glno-na",
        "colab_type": "code",
        "colab": {}
      },
      "source": [
        "train_Y = keras.utils.to_categorical(train_Y, 10)\n",
        "valid_Y = keras.utils.to_categorical(valid_Y, 10)\n",
        "test_Y = keras.utils.to_categorical(test_Y, 10)"
      ],
      "execution_count": 26,
      "outputs": []
    },
    {
      "cell_type": "code",
      "metadata": {
        "id": "5BL1YfaKpN1e",
        "colab_type": "code",
        "colab": {
          "base_uri": "https://localhost:8080/",
          "height": 34
        },
        "outputId": "ce8f6594-2961-4d26-df10-18922d598d48"
      },
      "source": [
        "print(train_Y[0])\n"
      ],
      "execution_count": 27,
      "outputs": [
        {
          "output_type": "stream",
          "text": [
            "[0. 0. 0. 0. 0. 1. 0. 0. 0. 0.]\n"
          ],
          "name": "stdout"
        }
      ]
    },
    {
      "cell_type": "code",
      "metadata": {
        "id": "KqYPqq3WpX_M",
        "colab_type": "code",
        "colab": {}
      },
      "source": [
        "import keras"
      ],
      "execution_count": 28,
      "outputs": []
    },
    {
      "cell_type": "code",
      "metadata": {
        "id": "7DVIVlHhpRVT",
        "colab_type": "code",
        "colab": {}
      },
      "source": [
        "model=keras.models.Sequential()"
      ],
      "execution_count": 29,
      "outputs": []
    },
    {
      "cell_type": "code",
      "metadata": {
        "id": "a9u_9nTSpgqo",
        "colab_type": "code",
        "colab": {}
      },
      "source": [
        "from keras.layers import Conv2D, Dense, Dropout, Flatten, MaxPooling2D"
      ],
      "execution_count": 30,
      "outputs": []
    },
    {
      "cell_type": "code",
      "metadata": {
        "id": "-f40ZfVgpbmC",
        "colab_type": "code",
        "colab": {}
      },
      "source": [
        "model.add(Conv2D(28, kernel_size = (3, 3), activation = 'relu', input_shape = (dim, dim, 1)))\n",
        "model.add(Conv2D(56, (3, 3), activation = 'relu'))"
      ],
      "execution_count": 31,
      "outputs": []
    },
    {
      "cell_type": "code",
      "metadata": {
        "id": "jF_r5hlLp2f-",
        "colab_type": "code",
        "colab": {}
      },
      "source": [
        "model.add(MaxPooling2D(pool_size = (2, 2)))"
      ],
      "execution_count": 32,
      "outputs": []
    },
    {
      "cell_type": "code",
      "metadata": {
        "id": "ZIEznFNMp85g",
        "colab_type": "code",
        "colab": {}
      },
      "source": [
        "model.add(Dropout(0.12))"
      ],
      "execution_count": 33,
      "outputs": []
    },
    {
      "cell_type": "code",
      "metadata": {
        "id": "4kd_yKsXqAvP",
        "colab_type": "code",
        "colab": {}
      },
      "source": [
        "model.add(Flatten())"
      ],
      "execution_count": 35,
      "outputs": []
    },
    {
      "cell_type": "code",
      "metadata": {
        "id": "z_lMUe3rqFLy",
        "colab_type": "code",
        "colab": {}
      },
      "source": [
        "model.add(Dense(128, activation='relu'))"
      ],
      "execution_count": 36,
      "outputs": []
    },
    {
      "cell_type": "code",
      "metadata": {
        "id": "qn3HcObSqN0t",
        "colab_type": "code",
        "colab": {}
      },
      "source": [
        "model.add(Dropout(0.25))\n"
      ],
      "execution_count": 37,
      "outputs": []
    },
    {
      "cell_type": "code",
      "metadata": {
        "id": "nnP8xPCVqU6N",
        "colab_type": "code",
        "colab": {}
      },
      "source": [
        "import tensorflow as tf"
      ],
      "execution_count": 39,
      "outputs": []
    },
    {
      "cell_type": "code",
      "metadata": {
        "id": "EzTK-nP4qPg7",
        "colab_type": "code",
        "colab": {}
      },
      "source": [
        "model.add(Dense(10, activation=tf.nn.softmax))"
      ],
      "execution_count": 40,
      "outputs": []
    },
    {
      "cell_type": "code",
      "metadata": {
        "id": "XOyThoo9qT4B",
        "colab_type": "code",
        "colab": {}
      },
      "source": [
        "model.compile(loss='categorical_crossentropy', optimizer='Adamax', metrics=['accuracy'])"
      ],
      "execution_count": 41,
      "outputs": []
    },
    {
      "cell_type": "code",
      "metadata": {
        "id": "vhipKQ6vqa_H",
        "colab_type": "code",
        "colab": {
          "base_uri": "https://localhost:8080/",
          "height": 437
        },
        "outputId": "2165b9eb-3e86-42f3-d9e1-f875440a2b47"
      },
      "source": [
        "training_stats = model.fit(train_X,train_Y,batch_size = 128, epochs = 12, verbose = 1, validation_data = (valid_X, valid_Y))"
      ],
      "execution_count": 42,
      "outputs": [
        {
          "output_type": "stream",
          "text": [
            "Train on 6400 samples, validate on 1600 samples\n",
            "Epoch 1/12\n",
            "6400/6400 [==============================] - 14s 2ms/step - loss: 0.7094 - accuracy: 0.7897 - val_loss: 0.4247 - val_accuracy: 0.8594\n",
            "Epoch 2/12\n",
            "6400/6400 [==============================] - 14s 2ms/step - loss: 0.2722 - accuracy: 0.9225 - val_loss: 0.2626 - val_accuracy: 0.9212\n",
            "Epoch 3/12\n",
            "6400/6400 [==============================] - 14s 2ms/step - loss: 0.1753 - accuracy: 0.9506 - val_loss: 0.1846 - val_accuracy: 0.9425\n",
            "Epoch 4/12\n",
            "6400/6400 [==============================] - 14s 2ms/step - loss: 0.1201 - accuracy: 0.9634 - val_loss: 0.1593 - val_accuracy: 0.9488\n",
            "Epoch 5/12\n",
            "6400/6400 [==============================] - 14s 2ms/step - loss: 0.0913 - accuracy: 0.9733 - val_loss: 0.1352 - val_accuracy: 0.9556\n",
            "Epoch 6/12\n",
            "6400/6400 [==============================] - 14s 2ms/step - loss: 0.0708 - accuracy: 0.9798 - val_loss: 0.1238 - val_accuracy: 0.9619\n",
            "Epoch 7/12\n",
            "6400/6400 [==============================] - 14s 2ms/step - loss: 0.0581 - accuracy: 0.9827 - val_loss: 0.1112 - val_accuracy: 0.9631\n",
            "Epoch 8/12\n",
            "6400/6400 [==============================] - 14s 2ms/step - loss: 0.0452 - accuracy: 0.9877 - val_loss: 0.1053 - val_accuracy: 0.9594\n",
            "Epoch 9/12\n",
            "6400/6400 [==============================] - 14s 2ms/step - loss: 0.0404 - accuracy: 0.9877 - val_loss: 0.1029 - val_accuracy: 0.9669\n",
            "Epoch 10/12\n",
            "6400/6400 [==============================] - 14s 2ms/step - loss: 0.0310 - accuracy: 0.9908 - val_loss: 0.1064 - val_accuracy: 0.9644\n",
            "Epoch 11/12\n",
            "6400/6400 [==============================] - 14s 2ms/step - loss: 0.0265 - accuracy: 0.9916 - val_loss: 0.0968 - val_accuracy: 0.9694\n",
            "Epoch 12/12\n",
            "6400/6400 [==============================] - 14s 2ms/step - loss: 0.0232 - accuracy: 0.9937 - val_loss: 0.1061 - val_accuracy: 0.9631\n"
          ],
          "name": "stdout"
        }
      ]
    },
    {
      "cell_type": "code",
      "metadata": {
        "id": "mOFqevkiqseZ",
        "colab_type": "code",
        "colab": {}
      },
      "source": [
        "evaluation = model.evaluate(test_X, test_Y, verbose=0)"
      ],
      "execution_count": 43,
      "outputs": []
    },
    {
      "cell_type": "code",
      "metadata": {
        "id": "XrBj90rSrfYw",
        "colab_type": "code",
        "colab": {
          "base_uri": "https://localhost:8080/",
          "height": 34
        },
        "outputId": "88d0fb3e-5614-47fa-eaad-ba49683d83b9"
      },
      "source": [
        "evaluation"
      ],
      "execution_count": 44,
      "outputs": [
        {
          "output_type": "execute_result",
          "data": {
            "text/plain": [
              "[0.0646413694290386, 0.9810000061988831]"
            ]
          },
          "metadata": {
            "tags": []
          },
          "execution_count": 44
        }
      ]
    },
    {
      "cell_type": "code",
      "metadata": {
        "id": "-9AElccarixn",
        "colab_type": "code",
        "colab": {
          "base_uri": "https://localhost:8080/",
          "height": 265
        },
        "outputId": "7ec4f304-3296-488f-96bd-0b92544fab3d"
      },
      "source": [
        "training_loss, = graph.plot(training_stats.history['loss'], label = 'Training Loss')\n"
      ],
      "execution_count": 45,
      "outputs": [
        {
          "output_type": "display_data",
          "data": {
            "image/png": "[encoded data removed]",
            "text/plain": [
              "<Figure size 432x288 with 1 Axes>"
            ]
          },
          "metadata": {
            "tags": [],
            "needs_background": "light"
          }
        }
      ]
    },
    {
      "cell_type": "code",
      "metadata": {
        "id": "LulT8cJWsAsW",
        "colab_type": "code",
        "colab": {}
      },
      "source": [
        "import numpy as np"
      ],
      "execution_count": 47,
      "outputs": []
    },
    {
      "cell_type": "code",
      "metadata": {
        "id": "7cn8KgbMrs2W",
        "colab_type": "code",
        "colab": {
          "base_uri": "https://localhost:8080/",
          "height": 282
        },
        "outputId": "67a16e3a-324a-4359-944e-e42f0e18fb9a"
      },
      "source": [
        "sample = test_X[0].reshape(dim, dim)\n",
        "graph.imshow(sample, cmap = 'gray', interpolation = 'nearest')\n",
        "graph.show()\n",
        "\n",
        "prediction = model.predict(sample.reshape(1, dim, dim, 1))\n",
        "print('prediction: %i' %(np.argmax(prediction)))"
      ],
      "execution_count": 48,
      "outputs": [
        {
          "output_type": "display_data",
          "data": {
            "image/png": "[encoded data removed]",
            "text/plain": [
              "<Figure size 432x288 with 1 Axes>"
            ]
          },
          "metadata": {
            "tags": [],
            "needs_background": "light"
          }
        },
        {
          "output_type": "stream",
          "text": [
            "prediction: 4\n"
          ],
          "name": "stdout"
        }
      ]
    },
    {
      "cell_type": "code",
      "metadata": {
        "id": "N88MFc4tr-SB",
        "colab_type": "code",
        "colab": {}
      },
      "source": [
        ""
      ],
      "execution_count": null,
      "outputs": []
    }
  ]
}